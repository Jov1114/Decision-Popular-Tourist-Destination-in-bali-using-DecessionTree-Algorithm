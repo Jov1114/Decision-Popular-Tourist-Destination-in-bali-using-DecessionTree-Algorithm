{
 "cells": [
  {
   "cell_type": "markdown",
   "metadata": {},
   "source": [
    "# Import yang dibutuhkan"
   ]
  },
  {
   "cell_type": "code",
   "execution_count": 14,
   "metadata": {},
   "outputs": [],
   "source": [
    "import csv\n",
    "import tkinter as tk\n",
    "from sklearn.tree import DecisionTreeClassifier"
   ]
  },
  {
   "cell_type": "markdown",
   "metadata": {},
   "source": [
    "# Load Data set yang akan digunakan"
   ]
  },
  {
   "cell_type": "code",
   "execution_count": 15,
   "metadata": {},
   "outputs": [],
   "source": [
    "place_data = []\n",
    "with open('Bali Popular Destination for Tourist 2022 - Sheet1.csv', 'r', encoding='utf-8') as file:\n",
    "    reader = csv.reader(file)\n",
    "    next(reader)  # Skip header\n",
    "    for row in reader:\n",
    "        place_data.append(row)"
   ]
  },
  {
   "cell_type": "markdown",
   "metadata": {},
   "source": [
    "# Pre-Processing Data Set dengan mengubah beberapa hal agar enak untuk dilihat"
   ]
  },
  {
   "cell_type": "code",
   "execution_count": 16,
   "metadata": {},
   "outputs": [],
   "source": [
    "def clean_cost_value(cost_text):\n",
    "    cost_text = cost_text.replace(',', '')  # Mengubah tanda koma\n",
    "    if 'USD' in cost_text:\n",
    "        cost = cost_text.split()[0]  # Extract numeric value\n",
    "        if cost.isdigit():\n",
    "            return float(cost)\n",
    "        else:\n",
    "            return 0.0  # Mengembalikan nilai 0.0 untuk cost value\n",
    "    else:\n",
    "        return 0.0  # Mengembalikan nilai 0.0 untuk cost value"
   ]
  },
  {
   "cell_type": "markdown",
   "metadata": {},
   "source": [
    "# Decision Tree"
   ]
  },
  {
   "cell_type": "code",
   "execution_count": 21,
   "metadata": {},
   "outputs": [],
   "source": [
    "# Decision Tree\n",
    "def create_decision_tree():\n",
    "    X_train = []\n",
    "    y_train = []\n",
    "\n",
    "    for data in place_data:\n",
    "        rating = float(data[3])\n",
    "        reviews = float(data[4])\n",
    "        cost_text = data[7]\n",
    "       \n",
    "\n",
    "        cost = clean_cost_value(cost_text)  # Mengambil Data yang telah diolah\n",
    "\n",
    "        X_train.append([rating, reviews, cost])\n",
    "        y_train.append(data[0]) \n",
    "\n",
    "    clf = DecisionTreeClassifier()\n",
    "    clf.fit(X_train, y_train)\n",
    "\n",
    "    return clf"
   ]
  },
  {
   "cell_type": "markdown",
   "metadata": {},
   "source": [
    "# Pembuatan Fungsi selected_place, jika di panggil menampilakan tempat yang sesuai dan terdapat filter jika input tak sesuai akan terjadi peringatan"
   ]
  },
  {
   "cell_type": "code",
   "execution_count": 18,
   "metadata": {},
   "outputs": [],
   "source": [
    "def select_place():\n",
    "    # mendapatkan preferences dari input fields\n",
    "    rating_pref = rating_input.get()\n",
    "    reviews_pref = reviews_input.get()\n",
    "    cost_pref = cost_input.get()\n",
    "\n",
    "    # validasi semua inputan\n",
    "    if not rating_pref or not reviews_pref or not cost_pref:\n",
    "        messagebox.showwarning(\"Peringatan\", \"Mohon isi semua input.\")\n",
    "        return\n",
    "\n",
    "    # pengecekan jika inputan sesuai dengan yang diinginkan\n",
    "    rating_valid = True\n",
    "    reviews_valid = True\n",
    "    cost_valid = True\n",
    "\n",
    "    if rating_pref != \"Semua\":\n",
    "        try:\n",
    "            rating = float(rating_pref)\n",
    "            if rating < 0 or rating > 5:\n",
    "                rating_valid = False\n",
    "        except ValueError:\n",
    "            rating_valid = False\n",
    "\n",
    "    if reviews_pref != \"Semua\":\n",
    "        try:\n",
    "            reviews = float(reviews_pref)\n",
    "            if reviews < 0:\n",
    "                reviews_valid = False\n",
    "        except ValueError:\n",
    "            reviews_valid = False\n",
    "\n",
    "    if cost_pref != \"Semua\":\n",
    "        try:\n",
    "            cost = float(cost_pref)\n",
    "            if cost < 0:\n",
    "                cost_valid = False\n",
    "        except ValueError:\n",
    "            cost_valid = False\n",
    "\n",
    "    if not rating_valid or not reviews_valid or not cost_valid:\n",
    "        messagebox.showwarning(\"Peringatan\", \"Mohon masukkan nilai yang valid.\")\n",
    "        return\n",
    "\n",
    "    filtered_places = []\n",
    "    for data in place_data:\n",
    "        rating = float(data[3])\n",
    "        reviews = float(data[4])\n",
    "        cost_text = data[7]\n",
    "\n",
    "        cost = clean_cost_value(cost_text)  # Preprocess cost value yang telah dilakukan diatas\n",
    "\n",
    "        if (rating_pref == \"Semua\" or (rating_pref != \"Semua\" and rating >= float(rating_pref))) \\\n",
    "                and (reviews_pref == \"Semua\" or (reviews_pref != \"Semua\" and reviews >= float(reviews_pref))) \\\n",
    "                and (cost_pref == \"Semua\" or (cost_pref != \"Semua\" and cost <= float(cost_pref))):\n",
    "            filtered_places.append(data)  # Semua Informasi \n",
    "\n",
    "    # Jika ada tempat wisata yang cocok\n",
    "    if filtered_places:\n",
    "        # pembuatan model Tree model\n",
    "        clf = create_decision_tree()\n",
    "\n",
    "        # Menampilkan prediksi tempat wisata yang paling cocok\n",
    "        predictions = clf.predict([[float(rating_pref), float(reviews_pref), float(cost_pref)]])\n",
    "\n",
    "        # menampilkan text tempat wisata\n",
    "        result_text = \"Tempat Wisata yang Direkomendasikan:\\n\\n\"\n",
    "        for place in filtered_places:\n",
    "            result_text += f\"Nama Tempat: {place[0]}\\n\"\n",
    "            result_text += f\"Lokasi: {place[1]}\\n\"\n",
    "            result_text += f\"Koordinat: {place[2]}\\n\"\n",
    "            result_text += f\"Rating Google Maps: {str(place[3])}\\n\"\n",
    "            result_text += f\"Jumlah Ulasan Google: {str(place[4])}\\n\"\n",
    "            result_text += f\"Sumber: {place[5]}\\n\"\n",
    "            result_text += f\"Deskripsi: {place[6]}\\n\"\n",
    "            result_text += f\"Biaya Kunjungan (USD): {place[7]}\\n\"\n",
    "            result_text += \"--------------------------------------\\n\\n\"\n",
    "\n",
    "        result_textbox.configure(state='normal')\n",
    "        result_textbox.delete('1.0', tk.END)\n",
    "        result_textbox.insert(tk.END, result_text)\n",
    "        result_textbox.configure(state='disabled')\n",
    "    else:\n",
    "        result_textbox.configure(state='normal')\n",
    "        result_textbox.delete('1.0', tk.END)\n",
    "        result_textbox.insert(tk.END, \"Tidak ada tempat wisata yang memenuhi preferensi.\")\n",
    "        result_textbox.configure(state='disabled')"
   ]
  },
  {
   "cell_type": "markdown",
   "metadata": {},
   "source": [
    "# Pembuatan GUI Menggunakan Tkinter"
   ]
  },
  {
   "cell_type": "code",
   "execution_count": 19,
   "metadata": {},
   "outputs": [],
   "source": [
    "root = tk.Tk()\n",
    "root.title(\"Rekomendasi Tempat Wisata Di Bali\")\n",
    "root.geometry(\"550x420\")\n",
    "\n",
    "rating_label = tk.Label(root, text=\"Rating Google Maps:\")\n",
    "rating_label.place(x=50, y=50)\n",
    "\n",
    "rating_input = tk.Entry(root)\n",
    "rating_input.place(x=200, y=50)\n",
    "\n",
    "reviews_label = tk.Label(root, text=\"Jumlah Ulasan Google:\")\n",
    "reviews_label.place(x=50, y=100)\n",
    "\n",
    "reviews_input = tk.Entry(root)\n",
    "reviews_input.place(x=200, y=100)\n",
    "\n",
    "cost_label = tk.Label(root, text=\"Biaya Kunjungan (USD):\")\n",
    "cost_label.place(x=50, y=150)\n",
    "\n",
    "cost_input = tk.Entry(root)\n",
    "cost_input.place(x=200, y=150)\n",
    "\n",
    "select_button = tk.Button(root, text=\"Pilih\", command=select_place)\n",
    "select_button.place(x=200, y=200)\n",
    "\n",
    "result_textbox = tk.Text(root, height=8, width=56, state='disabled')\n",
    "result_textbox.place(x=50, y=250)\n",
    "\n",
    "root.mainloop()\n"
   ]
  }
 ],
 "metadata": {
  "kernelspec": {
   "display_name": "Python 3",
   "language": "python",
   "name": "python3"
  },
  "language_info": {
   "codemirror_mode": {
    "name": "ipython",
    "version": 3
   },
   "file_extension": ".py",
   "mimetype": "text/x-python",
   "name": "python",
   "nbconvert_exporter": "python",
   "pygments_lexer": "ipython3",
   "version": "3.11.2"
  },
  "orig_nbformat": 4
 },
 "nbformat": 4,
 "nbformat_minor": 2
}
